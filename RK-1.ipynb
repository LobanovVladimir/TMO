{
 "metadata": {
  "language_info": {
   "codemirror_mode": {
    "name": "ipython",
    "version": 3
   },
   "file_extension": ".py",
   "mimetype": "text/x-python",
   "name": "python",
   "nbconvert_exporter": "python",
   "pygments_lexer": "ipython3",
   "version": "3.9.1"
  },
  "orig_nbformat": 4,
  "kernelspec": {
   "name": "python3",
   "display_name": "Python 3.9.1 64-bit"
  },
  "interpreter": {
   "hash": "42332857a8f5a35664e967348ae6eb6e0144d70e2f983fd6982ac9252633e1a0"
  }
 },
 "nbformat": 4,
 "nbformat_minor": 2,
 "cells": [
  {
   "cell_type": "code",
   "execution_count": 161,
   "metadata": {},
   "outputs": [],
   "source": [
    "import numpy as np\n",
    "import pandas as pd\n",
    "import seaborn as sns\n",
    "import matplotlib.pyplot as plt"
   ]
  },
  {
   "cell_type": "code",
   "execution_count": 162,
   "metadata": {},
   "outputs": [],
   "source": [
    "data = pd.read_csv('restaurant-scores-lives-standard.csv',sep=\",\")"
   ]
  },
  {
   "cell_type": "code",
   "execution_count": 163,
   "metadata": {},
   "outputs": [
    {
     "output_type": "execute_result",
     "data": {
      "text/plain": [
       "(53973, 23)"
      ]
     },
     "metadata": {},
     "execution_count": 163
    }
   ],
   "source": [
    "data.shape"
   ]
  },
  {
   "cell_type": "code",
   "execution_count": 164,
   "metadata": {},
   "outputs": [
    {
     "output_type": "execute_result",
     "data": {
      "text/plain": [
       "business_id                    int64\n",
       "business_name                 object\n",
       "business_address              object\n",
       "business_city                 object\n",
       "business_state                object\n",
       "business_postal_code          object\n",
       "business_latitude            float64\n",
       "business_longitude           float64\n",
       "business_location             object\n",
       "business_phone_number        float64\n",
       "inspection_id                 object\n",
       "inspection_date               object\n",
       "inspection_score             float64\n",
       "inspection_type               object\n",
       "violation_id                  object\n",
       "violation_description         object\n",
       "risk_category                 object\n",
       "Neighborhoods (old)          float64\n",
       "Police Districts             float64\n",
       "Supervisor Districts         float64\n",
       "Fire Prevention Districts    float64\n",
       "Zip Codes                    float64\n",
       "Analysis Neighborhoods       float64\n",
       "dtype: object"
      ]
     },
     "metadata": {},
     "execution_count": 164
    }
   ],
   "source": [
    "data.dtypes"
   ]
  },
  {
   "cell_type": "code",
   "execution_count": 165,
   "metadata": {},
   "outputs": [
    {
     "output_type": "stream",
     "name": "stdout",
     "text": [
      "business_id                      0\nbusiness_name                    0\nbusiness_address                 0\nbusiness_city                    0\nbusiness_state                   0\nbusiness_postal_code          1018\nbusiness_latitude            19556\nbusiness_longitude           19556\nbusiness_location            19556\nbusiness_phone_number        36938\ninspection_id                    0\ninspection_date                  0\ninspection_score             13610\ninspection_type                  0\nviolation_id                 12870\nviolation_description        12870\nrisk_category                12870\nNeighborhoods (old)          19594\nPolice Districts             19594\nSupervisor Districts         19594\nFire Prevention Districts    19646\nZip Codes                    19576\nAnalysis Neighborhoods       19594\ndtype: int64\n"
     ]
    }
   ],
   "source": [
    "# проверим есть ли пропущенные значения\n",
    "isnull = data.isnull().sum()\n",
    "print (isnull)"
   ]
  },
  {
   "source": [
    "## Для обработки пропусков возьмём один числовой признак(inspection_score) и категориальный признак (violation_description)"
   ],
   "cell_type": "markdown",
   "metadata": {}
  },
  {
   "source": [
    "Будем использовать методику импьютации, т.к. были выбраны столбцы с не огромными пропусками данных (максимум 25%) "
   ],
   "cell_type": "markdown",
   "metadata": {}
  },
  {
   "cell_type": "code",
   "execution_count": 166,
   "metadata": {},
   "outputs": [
    {
     "output_type": "execute_result",
     "data": {
      "text/plain": [
       "0     NaN\n",
       "1    96.0\n",
       "2     NaN\n",
       "3     NaN\n",
       "4     NaN\n",
       "Name: inspection_score, dtype: float64"
      ]
     },
     "metadata": {},
     "execution_count": 166
    }
   ],
   "source": [
    "dataint = data['inspection_score']\n",
    "dataint.head()"
   ]
  },
  {
   "cell_type": "code",
   "execution_count": 167,
   "metadata": {},
   "outputs": [],
   "source": [
    "num_cols=[]\n",
    "for col in data.columns:\n",
    "    if col=='inspection_score':\n",
    "        num_cols.append(col)"
   ]
  },
  {
   "cell_type": "code",
   "execution_count": 168,
   "metadata": {},
   "outputs": [],
   "source": [
    "sort_null_data = data[num_cols]\n",
    "data_inspection = sort_null_data[['inspection_score']]"
   ]
  },
  {
   "cell_type": "code",
   "execution_count": 169,
   "metadata": {},
   "outputs": [],
   "source": [
    "from sklearn.impute import SimpleImputer\n",
    "from sklearn.impute import MissingIndicator"
   ]
  },
  {
   "cell_type": "code",
   "execution_count": 170,
   "metadata": {},
   "outputs": [
    {
     "output_type": "execute_result",
     "data": {
      "text/plain": [
       "array([[ True],\n",
       "       [False],\n",
       "       [ True],\n",
       "       ...,\n",
       "       [False],\n",
       "       [False],\n",
       "       [False]])"
      ]
     },
     "metadata": {},
     "execution_count": 170
    }
   ],
   "source": [
    "indicator = MissingIndicator()\n",
    "mask_missing_values_only = indicator.fit_transform(data_inspection)\n",
    "mask_missing_values_only"
   ]
  },
  {
   "cell_type": "code",
   "execution_count": 171,
   "metadata": {},
   "outputs": [
    {
     "output_type": "display_data",
     "data": {
      "text/plain": "<Figure size 432x288 with 1 Axes>",
      "image/svg+xml": "<?xml version=\"1.0\" encoding=\"utf-8\" standalone=\"no\"?>\r\n<!DOCTYPE svg PUBLIC \"-//W3C//DTD SVG 1.1//EN\"\r\n  \"http://www.w3.org/Graphics/SVG/1.1/DTD/svg11.dtd\">\r\n<svg height=\"262.474375pt\" version=\"1.1\" viewBox=\"0 0 381.65 262.474375\" width=\"381.65pt\" xmlns=\"http://www.w3.org/2000/svg\" xmlns:xlink=\"http://www.w3.org/1999/xlink\">\r\n <metadata>\r\n  <rdf:RDF xmlns:cc=\"http://creativecommons.org/ns#\" xmlns:dc=\"http://purl.org/dc/elements/1.1/\" xmlns:rdf=\"http://www.w3.org/1999/02/22-rdf-syntax-ns#\">\r\n   <cc:Work>\r\n    <dc:type rdf:resource=\"http://purl.org/dc/dcmitype/StillImage\"/>\r\n    <dc:date>2021-06-15T21:04:19.284345</dc:date>\r\n    <dc:format>image/svg+xml</dc:format>\r\n    <dc:creator>\r\n     <cc:Agent>\r\n      <dc:title>Matplotlib v3.4.1, https://matplotlib.org/</dc:title>\r\n     </cc:Agent>\r\n    </dc:creator>\r\n   </cc:Work>\r\n  </rdf:RDF>\r\n </metadata>\r\n <defs>\r\n  <style type=\"text/css\">*{stroke-linecap:butt;stroke-linejoin:round;}</style>\r\n </defs>\r\n <g id=\"figure_1\">\r\n  <g id=\"patch_1\">\r\n   <path d=\"M -0 262.474375 \r\nL 381.65 262.474375 \r\nL 381.65 0 \r\nL -0 0 \r\nz\r\n\" style=\"fill:none;\"/>\r\n  </g>\r\n  <g id=\"axes_1\">\r\n   <g id=\"patch_2\">\r\n    <path d=\"M 39.65 224.64 \r\nL 374.45 224.64 \r\nL 374.45 7.2 \r\nL 39.65 7.2 \r\nz\r\n\" style=\"fill:#ffffff;\"/>\r\n   </g>\r\n   <g id=\"patch_3\">\r\n    <path clip-path=\"url(#p5bf4d02f0c)\" d=\"M 54.868182 224.64 \r\nL 57.911818 224.64 \r\nL 57.911818 224.320177 \r\nL 54.868182 224.320177 \r\nz\r\n\" style=\"fill:#1f77b4;\"/>\r\n   </g>\r\n   <g id=\"patch_4\">\r\n    <path clip-path=\"url(#p5bf4d02f0c)\" d=\"M 57.911818 224.64 \r\nL 60.955455 224.64 \r\nL 60.955455 224.426784 \r\nL 57.911818 224.426784 \r\nz\r\n\" style=\"fill:#1f77b4;\"/>\r\n   </g>\r\n   <g id=\"patch_5\">\r\n    <path clip-path=\"url(#p5bf4d02f0c)\" d=\"M 60.955455 224.64 \r\nL 63.999091 224.64 \r\nL 63.999091 224.64 \r\nL 60.955455 224.64 \r\nz\r\n\" style=\"fill:#1f77b4;\"/>\r\n   </g>\r\n   <g id=\"patch_6\">\r\n    <path clip-path=\"url(#p5bf4d02f0c)\" d=\"M 63.999091 224.64 \r\nL 67.042727 224.64 \r\nL 67.042727 224.64 \r\nL 63.999091 224.64 \r\nz\r\n\" style=\"fill:#1f77b4;\"/>\r\n   </g>\r\n   <g id=\"patch_7\">\r\n    <path clip-path=\"url(#p5bf4d02f0c)\" d=\"M 67.042727 224.64 \r\nL 70.086364 224.64 \r\nL 70.086364 224.64 \r\nL 67.042727 224.64 \r\nz\r\n\" style=\"fill:#1f77b4;\"/>\r\n   </g>\r\n   <g id=\"patch_8\">\r\n    <path clip-path=\"url(#p5bf4d02f0c)\" d=\"M 70.086364 224.64 \r\nL 73.13 224.64 \r\nL 73.13 223.893745 \r\nL 70.086364 223.893745 \r\nz\r\n\" style=\"fill:#1f77b4;\"/>\r\n   </g>\r\n   <g id=\"patch_9\">\r\n    <path clip-path=\"url(#p5bf4d02f0c)\" d=\"M 73.13 224.64 \r\nL 76.173636 224.64 \r\nL 76.173636 224.64 \r\nL 73.13 224.64 \r\nz\r\n\" style=\"fill:#1f77b4;\"/>\r\n   </g>\r\n   <g id=\"patch_10\">\r\n    <path clip-path=\"url(#p5bf4d02f0c)\" d=\"M 76.173636 224.64 \r\nL 79.217273 224.64 \r\nL 79.217273 224.64 \r\nL 76.173636 224.64 \r\nz\r\n\" style=\"fill:#1f77b4;\"/>\r\n   </g>\r\n   <g id=\"patch_11\">\r\n    <path clip-path=\"url(#p5bf4d02f0c)\" d=\"M 79.217273 224.64 \r\nL 82.260909 224.64 \r\nL 82.260909 224.64 \r\nL 79.217273 224.64 \r\nz\r\n\" style=\"fill:#1f77b4;\"/>\r\n   </g>\r\n   <g id=\"patch_12\">\r\n    <path clip-path=\"url(#p5bf4d02f0c)\" d=\"M 82.260909 224.64 \r\nL 85.304545 224.64 \r\nL 85.304545 224.64 \r\nL 82.260909 224.64 \r\nz\r\n\" style=\"fill:#1f77b4;\"/>\r\n   </g>\r\n   <g id=\"patch_13\">\r\n    <path clip-path=\"url(#p5bf4d02f0c)\" d=\"M 85.304545 224.64 \r\nL 88.348182 224.64 \r\nL 88.348182 223.893745 \r\nL 85.304545 223.893745 \r\nz\r\n\" style=\"fill:#1f77b4;\"/>\r\n   </g>\r\n   <g id=\"patch_14\">\r\n    <path clip-path=\"url(#p5bf4d02f0c)\" d=\"M 88.348182 224.64 \r\nL 91.391818 224.64 \r\nL 91.391818 224.64 \r\nL 88.348182 224.64 \r\nz\r\n\" style=\"fill:#1f77b4;\"/>\r\n   </g>\r\n   <g id=\"patch_15\">\r\n    <path clip-path=\"url(#p5bf4d02f0c)\" d=\"M 91.391818 224.64 \r\nL 94.435455 224.64 \r\nL 94.435455 224.64 \r\nL 91.391818 224.64 \r\nz\r\n\" style=\"fill:#1f77b4;\"/>\r\n   </g>\r\n   <g id=\"patch_16\">\r\n    <path clip-path=\"url(#p5bf4d02f0c)\" d=\"M 94.435455 224.64 \r\nL 97.479091 224.64 \r\nL 97.479091 224.64 \r\nL 94.435455 224.64 \r\nz\r\n\" style=\"fill:#1f77b4;\"/>\r\n   </g>\r\n   <g id=\"patch_17\">\r\n    <path clip-path=\"url(#p5bf4d02f0c)\" d=\"M 97.479091 224.64 \r\nL 100.522727 224.64 \r\nL 100.522727 224.64 \r\nL 97.479091 224.64 \r\nz\r\n\" style=\"fill:#1f77b4;\"/>\r\n   </g>\r\n   <g id=\"patch_18\">\r\n    <path clip-path=\"url(#p5bf4d02f0c)\" d=\"M 100.522727 224.64 \r\nL 103.566364 224.64 \r\nL 103.566364 224.64 \r\nL 100.522727 224.64 \r\nz\r\n\" style=\"fill:#1f77b4;\"/>\r\n   </g>\r\n   <g id=\"patch_19\">\r\n    <path clip-path=\"url(#p5bf4d02f0c)\" d=\"M 103.566364 224.64 \r\nL 106.61 224.64 \r\nL 106.61 224.000353 \r\nL 103.566364 224.000353 \r\nz\r\n\" style=\"fill:#1f77b4;\"/>\r\n   </g>\r\n   <g id=\"patch_20\">\r\n    <path clip-path=\"url(#p5bf4d02f0c)\" d=\"M 106.61 224.64 \r\nL 109.653636 224.64 \r\nL 109.653636 224.64 \r\nL 106.61 224.64 \r\nz\r\n\" style=\"fill:#1f77b4;\"/>\r\n   </g>\r\n   <g id=\"patch_21\">\r\n    <path clip-path=\"url(#p5bf4d02f0c)\" d=\"M 109.653636 224.64 \r\nL 112.697273 224.64 \r\nL 112.697273 222.241324 \r\nL 109.653636 222.241324 \r\nz\r\n\" style=\"fill:#1f77b4;\"/>\r\n   </g>\r\n   <g id=\"patch_22\">\r\n    <path clip-path=\"url(#p5bf4d02f0c)\" d=\"M 112.697273 224.64 \r\nL 115.740909 224.64 \r\nL 115.740909 224.64 \r\nL 112.697273 224.64 \r\nz\r\n\" style=\"fill:#1f77b4;\"/>\r\n   </g>\r\n   <g id=\"patch_23\">\r\n    <path clip-path=\"url(#p5bf4d02f0c)\" d=\"M 115.740909 224.64 \r\nL 118.784545 224.64 \r\nL 118.784545 224.64 \r\nL 115.740909 224.64 \r\nz\r\n\" style=\"fill:#1f77b4;\"/>\r\n   </g>\r\n   <g id=\"patch_24\">\r\n    <path clip-path=\"url(#p5bf4d02f0c)\" d=\"M 118.784545 224.64 \r\nL 121.828182 224.64 \r\nL 121.828182 222.294628 \r\nL 118.784545 222.294628 \r\nz\r\n\" style=\"fill:#1f77b4;\"/>\r\n   </g>\r\n   <g id=\"patch_25\">\r\n    <path clip-path=\"url(#p5bf4d02f0c)\" d=\"M 121.828182 224.64 \r\nL 124.871818 224.64 \r\nL 124.871818 224.64 \r\nL 121.828182 224.64 \r\nz\r\n\" style=\"fill:#1f77b4;\"/>\r\n   </g>\r\n   <g id=\"patch_26\">\r\n    <path clip-path=\"url(#p5bf4d02f0c)\" d=\"M 124.871818 224.64 \r\nL 127.915455 224.64 \r\nL 127.915455 223.254098 \r\nL 124.871818 223.254098 \r\nz\r\n\" style=\"fill:#1f77b4;\"/>\r\n   </g>\r\n   <g id=\"patch_27\">\r\n    <path clip-path=\"url(#p5bf4d02f0c)\" d=\"M 127.915455 224.64 \r\nL 130.959091 224.64 \r\nL 130.959091 224.64 \r\nL 127.915455 224.64 \r\nz\r\n\" style=\"fill:#1f77b4;\"/>\r\n   </g>\r\n   <g id=\"patch_28\">\r\n    <path clip-path=\"url(#p5bf4d02f0c)\" d=\"M 130.959091 224.64 \r\nL 134.002727 224.64 \r\nL 134.002727 222.347932 \r\nL 130.959091 222.347932 \r\nz\r\n\" style=\"fill:#1f77b4;\"/>\r\n   </g>\r\n   <g id=\"patch_29\">\r\n    <path clip-path=\"url(#p5bf4d02f0c)\" d=\"M 134.002727 224.64 \r\nL 137.046364 224.64 \r\nL 137.046364 224.64 \r\nL 134.002727 224.64 \r\nz\r\n\" style=\"fill:#1f77b4;\"/>\r\n   </g>\r\n   <g id=\"patch_30\">\r\n    <path clip-path=\"url(#p5bf4d02f0c)\" d=\"M 137.046364 224.64 \r\nL 140.09 224.64 \r\nL 140.09 220.855422 \r\nL 137.046364 220.855422 \r\nz\r\n\" style=\"fill:#1f77b4;\"/>\r\n   </g>\r\n   <g id=\"patch_31\">\r\n    <path clip-path=\"url(#p5bf4d02f0c)\" d=\"M 140.09 224.64 \r\nL 143.133636 224.64 \r\nL 143.133636 224.64 \r\nL 140.09 224.64 \r\nz\r\n\" style=\"fill:#1f77b4;\"/>\r\n   </g>\r\n   <g id=\"patch_32\">\r\n    <path clip-path=\"url(#p5bf4d02f0c)\" d=\"M 143.133636 224.64 \r\nL 146.177273 224.64 \r\nL 146.177273 222.134716 \r\nL 143.133636 222.134716 \r\nz\r\n\" style=\"fill:#1f77b4;\"/>\r\n   </g>\r\n   <g id=\"patch_33\">\r\n    <path clip-path=\"url(#p5bf4d02f0c)\" d=\"M 146.177273 224.64 \r\nL 149.220909 224.64 \r\nL 149.220909 220.375687 \r\nL 146.177273 220.375687 \r\nz\r\n\" style=\"fill:#1f77b4;\"/>\r\n   </g>\r\n   <g id=\"patch_34\">\r\n    <path clip-path=\"url(#p5bf4d02f0c)\" d=\"M 149.220909 224.64 \r\nL 152.264545 224.64 \r\nL 152.264545 224.64 \r\nL 149.220909 224.64 \r\nz\r\n\" style=\"fill:#1f77b4;\"/>\r\n   </g>\r\n   <g id=\"patch_35\">\r\n    <path clip-path=\"url(#p5bf4d02f0c)\" d=\"M 152.264545 224.64 \r\nL 155.308182 224.64 \r\nL 155.308182 219.73604 \r\nL 152.264545 219.73604 \r\nz\r\n\" style=\"fill:#1f77b4;\"/>\r\n   </g>\r\n   <g id=\"patch_36\">\r\n    <path clip-path=\"url(#p5bf4d02f0c)\" d=\"M 155.308182 224.64 \r\nL 158.351818 224.64 \r\nL 158.351818 224.64 \r\nL 155.308182 224.64 \r\nz\r\n\" style=\"fill:#1f77b4;\"/>\r\n   </g>\r\n   <g id=\"patch_37\">\r\n    <path clip-path=\"url(#p5bf4d02f0c)\" d=\"M 158.351818 224.64 \r\nL 161.395455 224.64 \r\nL 161.395455 218.776569 \r\nL 158.351818 218.776569 \r\nz\r\n\" style=\"fill:#1f77b4;\"/>\r\n   </g>\r\n   <g id=\"patch_38\">\r\n    <path clip-path=\"url(#p5bf4d02f0c)\" d=\"M 161.395455 224.64 \r\nL 164.439091 224.64 \r\nL 164.439091 224.64 \r\nL 161.395455 224.64 \r\nz\r\n\" style=\"fill:#1f77b4;\"/>\r\n   </g>\r\n   <g id=\"patch_39\">\r\n    <path clip-path=\"url(#p5bf4d02f0c)\" d=\"M 164.439091 224.64 \r\nL 167.482727 224.64 \r\nL 167.482727 213.392874 \r\nL 164.439091 213.392874 \r\nz\r\n\" style=\"fill:#1f77b4;\"/>\r\n   </g>\r\n   <g id=\"patch_40\">\r\n    <path clip-path=\"url(#p5bf4d02f0c)\" d=\"M 167.482727 224.64 \r\nL 170.526364 224.64 \r\nL 170.526364 224.64 \r\nL 167.482727 224.64 \r\nz\r\n\" style=\"fill:#1f77b4;\"/>\r\n   </g>\r\n   <g id=\"patch_41\">\r\n    <path clip-path=\"url(#p5bf4d02f0c)\" d=\"M 170.526364 224.64 \r\nL 173.57 224.64 \r\nL 173.57 217.550579 \r\nL 170.526364 217.550579 \r\nz\r\n\" style=\"fill:#1f77b4;\"/>\r\n   </g>\r\n   <g id=\"patch_42\">\r\n    <path clip-path=\"url(#p5bf4d02f0c)\" d=\"M 173.57 224.64 \r\nL 176.613636 224.64 \r\nL 176.613636 224.64 \r\nL 173.57 224.64 \r\nz\r\n\" style=\"fill:#1f77b4;\"/>\r\n   </g>\r\n   <g id=\"patch_43\">\r\n    <path clip-path=\"url(#p5bf4d02f0c)\" d=\"M 176.613636 224.64 \r\nL 179.657273 224.64 \r\nL 179.657273 213.819305 \r\nL 176.613636 213.819305 \r\nz\r\n\" style=\"fill:#1f77b4;\"/>\r\n   </g>\r\n   <g id=\"patch_44\">\r\n    <path clip-path=\"url(#p5bf4d02f0c)\" d=\"M 179.657273 224.64 \r\nL 182.700909 224.64 \r\nL 182.700909 211.047501 \r\nL 179.657273 211.047501 \r\nz\r\n\" style=\"fill:#1f77b4;\"/>\r\n   </g>\r\n   <g id=\"patch_45\">\r\n    <path clip-path=\"url(#p5bf4d02f0c)\" d=\"M 182.700909 224.64 \r\nL 185.744545 224.64 \r\nL 185.744545 224.64 \r\nL 182.700909 224.64 \r\nz\r\n\" style=\"fill:#1f77b4;\"/>\r\n   </g>\r\n   <g id=\"patch_46\">\r\n    <path clip-path=\"url(#p5bf4d02f0c)\" d=\"M 185.744545 224.64 \r\nL 188.788182 224.64 \r\nL 188.788182 213.286266 \r\nL 185.744545 213.286266 \r\nz\r\n\" style=\"fill:#1f77b4;\"/>\r\n   </g>\r\n   <g id=\"patch_47\">\r\n    <path clip-path=\"url(#p5bf4d02f0c)\" d=\"M 188.788182 224.64 \r\nL 191.831818 224.64 \r\nL 191.831818 224.64 \r\nL 188.788182 224.64 \r\nz\r\n\" style=\"fill:#1f77b4;\"/>\r\n   </g>\r\n   <g id=\"patch_48\">\r\n    <path clip-path=\"url(#p5bf4d02f0c)\" d=\"M 191.831818 224.64 \r\nL 194.875455 224.64 \r\nL 194.875455 204.704335 \r\nL 191.831818 204.704335 \r\nz\r\n\" style=\"fill:#1f77b4;\"/>\r\n   </g>\r\n   <g id=\"patch_49\">\r\n    <path clip-path=\"url(#p5bf4d02f0c)\" d=\"M 194.875455 224.64 \r\nL 197.919091 224.64 \r\nL 197.919091 224.64 \r\nL 194.875455 224.64 \r\nz\r\n\" style=\"fill:#1f77b4;\"/>\r\n   </g>\r\n   <g id=\"patch_50\">\r\n    <path clip-path=\"url(#p5bf4d02f0c)\" d=\"M 197.919091 224.64 \r\nL 200.962727 224.64 \r\nL 200.962727 202.99861 \r\nL 197.919091 202.99861 \r\nz\r\n\" style=\"fill:#1f77b4;\"/>\r\n   </g>\r\n   <g id=\"patch_51\">\r\n    <path clip-path=\"url(#p5bf4d02f0c)\" d=\"M 200.962727 224.64 \r\nL 204.006364 224.64 \r\nL 204.006364 224.64 \r\nL 200.962727 224.64 \r\nz\r\n\" style=\"fill:#1f77b4;\"/>\r\n   </g>\r\n   <g id=\"patch_52\">\r\n    <path clip-path=\"url(#p5bf4d02f0c)\" d=\"M 204.006364 224.64 \r\nL 207.05 224.64 \r\nL 207.05 196.60214 \r\nL 204.006364 196.60214 \r\nz\r\n\" style=\"fill:#1f77b4;\"/>\r\n   </g>\r\n   <g id=\"patch_53\">\r\n    <path clip-path=\"url(#p5bf4d02f0c)\" d=\"M 207.05 224.64 \r\nL 210.093636 224.64 \r\nL 210.093636 200.759846 \r\nL 207.05 200.759846 \r\nz\r\n\" style=\"fill:#1f77b4;\"/>\r\n   </g>\r\n   <g id=\"patch_54\">\r\n    <path clip-path=\"url(#p5bf4d02f0c)\" d=\"M 210.093636 224.64 \r\nL 213.137273 224.64 \r\nL 213.137273 224.64 \r\nL 210.093636 224.64 \r\nz\r\n\" style=\"fill:#1f77b4;\"/>\r\n   </g>\r\n   <g id=\"patch_55\">\r\n    <path clip-path=\"url(#p5bf4d02f0c)\" d=\"M 213.137273 224.64 \r\nL 216.180909 224.64 \r\nL 216.180909 189.939151 \r\nL 213.137273 189.939151 \r\nz\r\n\" style=\"fill:#1f77b4;\"/>\r\n   </g>\r\n   <g id=\"patch_56\">\r\n    <path clip-path=\"url(#p5bf4d02f0c)\" d=\"M 216.180909 224.64 \r\nL 219.224545 224.64 \r\nL 219.224545 224.64 \r\nL 216.180909 224.64 \r\nz\r\n\" style=\"fill:#1f77b4;\"/>\r\n   </g>\r\n   <g id=\"patch_57\">\r\n    <path clip-path=\"url(#p5bf4d02f0c)\" d=\"M 219.224545 224.64 \r\nL 222.268182 224.64 \r\nL 222.268182 183.276161 \r\nL 219.224545 183.276161 \r\nz\r\n\" style=\"fill:#1f77b4;\"/>\r\n   </g>\r\n   <g id=\"patch_58\">\r\n    <path clip-path=\"url(#p5bf4d02f0c)\" d=\"M 222.268182 224.64 \r\nL 225.311818 224.64 \r\nL 225.311818 224.64 \r\nL 222.268182 224.64 \r\nz\r\n\" style=\"fill:#1f77b4;\"/>\r\n   </g>\r\n   <g id=\"patch_59\">\r\n    <path clip-path=\"url(#p5bf4d02f0c)\" d=\"M 225.311818 224.64 \r\nL 228.355455 224.64 \r\nL 228.355455 192.284523 \r\nL 225.311818 192.284523 \r\nz\r\n\" style=\"fill:#1f77b4;\"/>\r\n   </g>\r\n   <g id=\"patch_60\">\r\n    <path clip-path=\"url(#p5bf4d02f0c)\" d=\"M 228.355455 224.64 \r\nL 231.399091 224.64 \r\nL 231.399091 224.64 \r\nL 228.355455 224.64 \r\nz\r\n\" style=\"fill:#1f77b4;\"/>\r\n   </g>\r\n   <g id=\"patch_61\">\r\n    <path clip-path=\"url(#p5bf4d02f0c)\" d=\"M 231.399091 224.64 \r\nL 234.442727 224.64 \r\nL 234.442727 182.210083 \r\nL 231.399091 182.210083 \r\nz\r\n\" style=\"fill:#1f77b4;\"/>\r\n   </g>\r\n   <g id=\"patch_62\">\r\n    <path clip-path=\"url(#p5bf4d02f0c)\" d=\"M 234.442727 224.64 \r\nL 237.486364 224.64 \r\nL 237.486364 224.64 \r\nL 234.442727 224.64 \r\nz\r\n\" style=\"fill:#1f77b4;\"/>\r\n   </g>\r\n   <g id=\"patch_63\">\r\n    <path clip-path=\"url(#p5bf4d02f0c)\" d=\"M 237.486364 224.64 \r\nL 240.53 224.64 \r\nL 240.53 181.62374 \r\nL 237.486364 181.62374 \r\nz\r\n\" style=\"fill:#1f77b4;\"/>\r\n   </g>\r\n   <g id=\"patch_64\">\r\n    <path clip-path=\"url(#p5bf4d02f0c)\" d=\"M 240.53 224.64 \r\nL 243.573636 224.64 \r\nL 243.573636 173.095113 \r\nL 240.53 173.095113 \r\nz\r\n\" style=\"fill:#1f77b4;\"/>\r\n   </g>\r\n   <g id=\"patch_65\">\r\n    <path clip-path=\"url(#p5bf4d02f0c)\" d=\"M 243.573636 224.64 \r\nL 246.617273 224.64 \r\nL 246.617273 224.64 \r\nL 243.573636 224.64 \r\nz\r\n\" style=\"fill:#1f77b4;\"/>\r\n   </g>\r\n   <g id=\"patch_66\">\r\n    <path clip-path=\"url(#p5bf4d02f0c)\" d=\"M 246.617273 224.64 \r\nL 249.660909 224.64 \r\nL 249.660909 170.856349 \r\nL 246.617273 170.856349 \r\nz\r\n\" style=\"fill:#1f77b4;\"/>\r\n   </g>\r\n   <g id=\"patch_67\">\r\n    <path clip-path=\"url(#p5bf4d02f0c)\" d=\"M 249.660909 224.64 \r\nL 252.704545 224.64 \r\nL 252.704545 224.64 \r\nL 249.660909 224.64 \r\nz\r\n\" style=\"fill:#1f77b4;\"/>\r\n   </g>\r\n   <g id=\"patch_68\">\r\n    <path clip-path=\"url(#p5bf4d02f0c)\" d=\"M 252.704545 224.64 \r\nL 255.748182 224.64 \r\nL 255.748182 146.336547 \r\nL 252.704545 146.336547 \r\nz\r\n\" style=\"fill:#1f77b4;\"/>\r\n   </g>\r\n   <g id=\"patch_69\">\r\n    <path clip-path=\"url(#p5bf4d02f0c)\" d=\"M 255.748182 224.64 \r\nL 258.791818 224.64 \r\nL 258.791818 224.64 \r\nL 255.748182 224.64 \r\nz\r\n\" style=\"fill:#1f77b4;\"/>\r\n   </g>\r\n   <g id=\"patch_70\">\r\n    <path clip-path=\"url(#p5bf4d02f0c)\" d=\"M 258.791818 224.64 \r\nL 261.835455 224.64 \r\nL 261.835455 166.325516 \r\nL 258.791818 166.325516 \r\nz\r\n\" style=\"fill:#1f77b4;\"/>\r\n   </g>\r\n   <g id=\"patch_71\">\r\n    <path clip-path=\"url(#p5bf4d02f0c)\" d=\"M 261.835455 224.64 \r\nL 264.879091 224.64 \r\nL 264.879091 224.64 \r\nL 261.835455 224.64 \r\nz\r\n\" style=\"fill:#1f77b4;\"/>\r\n   </g>\r\n   <g id=\"patch_72\">\r\n    <path clip-path=\"url(#p5bf4d02f0c)\" d=\"M 264.879091 224.64 \r\nL 267.922727 224.64 \r\nL 267.922727 135.995587 \r\nL 264.879091 135.995587 \r\nz\r\n\" style=\"fill:#1f77b4;\"/>\r\n   </g>\r\n   <g id=\"patch_73\">\r\n    <path clip-path=\"url(#p5bf4d02f0c)\" d=\"M 267.922727 224.64 \r\nL 270.966364 224.64 \r\nL 270.966364 153.905703 \r\nL 267.922727 153.905703 \r\nz\r\n\" style=\"fill:#1f77b4;\"/>\r\n   </g>\r\n   <g id=\"patch_74\">\r\n    <path clip-path=\"url(#p5bf4d02f0c)\" d=\"M 270.966364 224.64 \r\nL 274.01 224.64 \r\nL 274.01 224.64 \r\nL 270.966364 224.64 \r\nz\r\n\" style=\"fill:#1f77b4;\"/>\r\n   </g>\r\n   <g id=\"patch_75\">\r\n    <path clip-path=\"url(#p5bf4d02f0c)\" d=\"M 274.01 224.64 \r\nL 277.053636 224.64 \r\nL 277.053636 134.982813 \r\nL 274.01 134.982813 \r\nz\r\n\" style=\"fill:#1f77b4;\"/>\r\n   </g>\r\n   <g id=\"patch_76\">\r\n    <path clip-path=\"url(#p5bf4d02f0c)\" d=\"M 277.053636 224.64 \r\nL 280.097273 224.64 \r\nL 280.097273 224.64 \r\nL 277.053636 224.64 \r\nz\r\n\" style=\"fill:#1f77b4;\"/>\r\n   </g>\r\n   <g id=\"patch_77\">\r\n    <path clip-path=\"url(#p5bf4d02f0c)\" d=\"M 280.097273 224.64 \r\nL 283.140909 224.64 \r\nL 283.140909 101.561258 \r\nL 280.097273 101.561258 \r\nz\r\n\" style=\"fill:#1f77b4;\"/>\r\n   </g>\r\n   <g id=\"patch_78\">\r\n    <path clip-path=\"url(#p5bf4d02f0c)\" d=\"M 283.140909 224.64 \r\nL 286.184545 224.64 \r\nL 286.184545 224.64 \r\nL 283.140909 224.64 \r\nz\r\n\" style=\"fill:#1f77b4;\"/>\r\n   </g>\r\n   <g id=\"patch_79\">\r\n    <path clip-path=\"url(#p5bf4d02f0c)\" d=\"M 286.184545 224.64 \r\nL 289.228182 224.64 \r\nL 289.228182 133.063872 \r\nL 286.184545 133.063872 \r\nz\r\n\" style=\"fill:#1f77b4;\"/>\r\n   </g>\r\n   <g id=\"patch_80\">\r\n    <path clip-path=\"url(#p5bf4d02f0c)\" d=\"M 289.228182 224.64 \r\nL 292.271818 224.64 \r\nL 292.271818 224.64 \r\nL 289.228182 224.64 \r\nz\r\n\" style=\"fill:#1f77b4;\"/>\r\n   </g>\r\n   <g id=\"patch_81\">\r\n    <path clip-path=\"url(#p5bf4d02f0c)\" d=\"M 292.271818 224.64 \r\nL 295.315455 224.64 \r\nL 295.315455 84.024269 \r\nL 292.271818 84.024269 \r\nz\r\n\" style=\"fill:#1f77b4;\"/>\r\n   </g>\r\n   <g id=\"patch_82\">\r\n    <path clip-path=\"url(#p5bf4d02f0c)\" d=\"M 295.315455 224.64 \r\nL 298.359091 224.64 \r\nL 298.359091 224.64 \r\nL 295.315455 224.64 \r\nz\r\n\" style=\"fill:#1f77b4;\"/>\r\n   </g>\r\n   <g id=\"patch_83\">\r\n    <path clip-path=\"url(#p5bf4d02f0c)\" d=\"M 298.359091 224.64 \r\nL 301.402727 224.64 \r\nL 301.402727 176.773083 \r\nL 298.359091 176.773083 \r\nz\r\n\" style=\"fill:#1f77b4;\"/>\r\n   </g>\r\n   <g id=\"patch_84\">\r\n    <path clip-path=\"url(#p5bf4d02f0c)\" d=\"M 301.402727 224.64 \r\nL 304.446364 224.64 \r\nL 304.446364 17.554286 \r\nL 301.402727 17.554286 \r\nz\r\n\" style=\"fill:#1f77b4;\"/>\r\n   </g>\r\n   <g id=\"patch_85\">\r\n    <path clip-path=\"url(#p5bf4d02f0c)\" d=\"M 304.446364 224.64 \r\nL 307.49 224.64 \r\nL 307.49 224.64 \r\nL 304.446364 224.64 \r\nz\r\n\" style=\"fill:#1f77b4;\"/>\r\n   </g>\r\n   <g id=\"patch_86\">\r\n    <path clip-path=\"url(#p5bf4d02f0c)\" d=\"M 307.49 224.64 \r\nL 310.533636 224.64 \r\nL 310.533636 196.229013 \r\nL 307.49 196.229013 \r\nz\r\n\" style=\"fill:#1f77b4;\"/>\r\n   </g>\r\n   <g id=\"patch_87\">\r\n    <path clip-path=\"url(#p5bf4d02f0c)\" d=\"M 310.533636 224.64 \r\nL 313.577273 224.64 \r\nL 313.577273 224.64 \r\nL 310.533636 224.64 \r\nz\r\n\" style=\"fill:#1f77b4;\"/>\r\n   </g>\r\n   <g id=\"patch_88\">\r\n    <path clip-path=\"url(#p5bf4d02f0c)\" d=\"M 313.577273 224.64 \r\nL 316.620909 224.64 \r\nL 316.620909 37.649862 \r\nL 313.577273 37.649862 \r\nz\r\n\" style=\"fill:#1f77b4;\"/>\r\n   </g>\r\n   <g id=\"patch_89\">\r\n    <path clip-path=\"url(#p5bf4d02f0c)\" d=\"M 316.620909 224.64 \r\nL 319.664545 224.64 \r\nL 319.664545 224.64 \r\nL 316.620909 224.64 \r\nz\r\n\" style=\"fill:#1f77b4;\"/>\r\n   </g>\r\n   <g id=\"patch_90\">\r\n    <path clip-path=\"url(#p5bf4d02f0c)\" d=\"M 319.664545 224.64 \r\nL 322.708182 224.64 \r\nL 322.708182 210.461158 \r\nL 319.664545 210.461158 \r\nz\r\n\" style=\"fill:#1f77b4;\"/>\r\n   </g>\r\n   <g id=\"patch_91\">\r\n    <path clip-path=\"url(#p5bf4d02f0c)\" d=\"M 322.708182 224.64 \r\nL 325.751818 224.64 \r\nL 325.751818 224.64 \r\nL 322.708182 224.64 \r\nz\r\n\" style=\"fill:#1f77b4;\"/>\r\n   </g>\r\n   <g id=\"patch_92\">\r\n    <path clip-path=\"url(#p5bf4d02f0c)\" d=\"M 325.751818 224.64 \r\nL 328.795455 224.64 \r\nL 328.795455 75.015907 \r\nL 325.751818 75.015907 \r\nz\r\n\" style=\"fill:#1f77b4;\"/>\r\n   </g>\r\n   <g id=\"patch_93\">\r\n    <path clip-path=\"url(#p5bf4d02f0c)\" d=\"M 328.795455 224.64 \r\nL 331.839091 224.64 \r\nL 331.839091 224.64 \r\nL 328.795455 224.64 \r\nz\r\n\" style=\"fill:#1f77b4;\"/>\r\n   </g>\r\n   <g id=\"patch_94\">\r\n    <path clip-path=\"url(#p5bf4d02f0c)\" d=\"M 331.839091 224.64 \r\nL 334.882727 224.64 \r\nL 334.882727 224.64 \r\nL 331.839091 224.64 \r\nz\r\n\" style=\"fill:#1f77b4;\"/>\r\n   </g>\r\n   <g id=\"patch_95\">\r\n    <path clip-path=\"url(#p5bf4d02f0c)\" d=\"M 334.882727 224.64 \r\nL 337.926364 224.64 \r\nL 337.926364 94.844964 \r\nL 334.882727 94.844964 \r\nz\r\n\" style=\"fill:#1f77b4;\"/>\r\n   </g>\r\n   <g id=\"patch_96\">\r\n    <path clip-path=\"url(#p5bf4d02f0c)\" d=\"M 337.926364 224.64 \r\nL 340.97 224.64 \r\nL 340.97 224.64 \r\nL 337.926364 224.64 \r\nz\r\n\" style=\"fill:#1f77b4;\"/>\r\n   </g>\r\n   <g id=\"patch_97\">\r\n    <path clip-path=\"url(#p5bf4d02f0c)\" d=\"M 340.97 224.64 \r\nL 344.013636 224.64 \r\nL 344.013636 224.64 \r\nL 340.97 224.64 \r\nz\r\n\" style=\"fill:#1f77b4;\"/>\r\n   </g>\r\n   <g id=\"patch_98\">\r\n    <path clip-path=\"url(#p5bf4d02f0c)\" d=\"M 344.013636 224.64 \r\nL 347.057273 224.64 \r\nL 347.057273 224.64 \r\nL 344.013636 224.64 \r\nz\r\n\" style=\"fill:#1f77b4;\"/>\r\n   </g>\r\n   <g id=\"patch_99\">\r\n    <path clip-path=\"url(#p5bf4d02f0c)\" d=\"M 347.057273 224.64 \r\nL 350.100909 224.64 \r\nL 350.100909 164.61979 \r\nL 347.057273 164.61979 \r\nz\r\n\" style=\"fill:#1f77b4;\"/>\r\n   </g>\r\n   <g id=\"patch_100\">\r\n    <path clip-path=\"url(#p5bf4d02f0c)\" d=\"M 350.100909 224.64 \r\nL 353.144545 224.64 \r\nL 353.144545 224.64 \r\nL 350.100909 224.64 \r\nz\r\n\" style=\"fill:#1f77b4;\"/>\r\n   </g>\r\n   <g id=\"patch_101\">\r\n    <path clip-path=\"url(#p5bf4d02f0c)\" d=\"M 353.144545 224.64 \r\nL 356.188182 224.64 \r\nL 356.188182 224.64 \r\nL 353.144545 224.64 \r\nz\r\n\" style=\"fill:#1f77b4;\"/>\r\n   </g>\r\n   <g id=\"patch_102\">\r\n    <path clip-path=\"url(#p5bf4d02f0c)\" d=\"M 356.188182 224.64 \r\nL 359.231818 224.64 \r\nL 359.231818 117.232609 \r\nL 356.188182 117.232609 \r\nz\r\n\" style=\"fill:#1f77b4;\"/>\r\n   </g>\r\n   <g id=\"matplotlib.axis_1\">\r\n    <g id=\"xtick_1\">\r\n     <g id=\"line2d_1\">\r\n      <defs>\r\n       <path d=\"M 0 0 \r\nL 0 3.5 \r\n\" id=\"m448ebaccdc\" style=\"stroke:#000000;stroke-width:0.8;\"/>\r\n      </defs>\r\n      <g>\r\n       <use style=\"stroke:#000000;stroke-width:0.8;\" x=\"82.537603\" xlink:href=\"#m448ebaccdc\" y=\"224.64\"/>\r\n      </g>\r\n     </g>\r\n     <g id=\"text_1\">\r\n      <!-- 50 -->\r\n      <g transform=\"translate(76.175103 239.238438)scale(0.1 -0.1)\">\r\n       <defs>\r\n        <path d=\"M 691 4666 \r\nL 3169 4666 \r\nL 3169 4134 \r\nL 1269 4134 \r\nL 1269 2991 \r\nQ 1406 3038 1543 3061 \r\nQ 1681 3084 1819 3084 \r\nQ 2600 3084 3056 2656 \r\nQ 3513 2228 3513 1497 \r\nQ 3513 744 3044 326 \r\nQ 2575 -91 1722 -91 \r\nQ 1428 -91 1123 -41 \r\nQ 819 9 494 109 \r\nL 494 744 \r\nQ 775 591 1075 516 \r\nQ 1375 441 1709 441 \r\nQ 2250 441 2565 725 \r\nQ 2881 1009 2881 1497 \r\nQ 2881 1984 2565 2268 \r\nQ 2250 2553 1709 2553 \r\nQ 1456 2553 1204 2497 \r\nQ 953 2441 691 2322 \r\nL 691 4666 \r\nz\r\n\" id=\"DejaVuSans-35\" transform=\"scale(0.015625)\"/>\r\n        <path d=\"M 2034 4250 \r\nQ 1547 4250 1301 3770 \r\nQ 1056 3291 1056 2328 \r\nQ 1056 1369 1301 889 \r\nQ 1547 409 2034 409 \r\nQ 2525 409 2770 889 \r\nQ 3016 1369 3016 2328 \r\nQ 3016 3291 2770 3770 \r\nQ 2525 4250 2034 4250 \r\nz\r\nM 2034 4750 \r\nQ 2819 4750 3233 4129 \r\nQ 3647 3509 3647 2328 \r\nQ 3647 1150 3233 529 \r\nQ 2819 -91 2034 -91 \r\nQ 1250 -91 836 529 \r\nQ 422 1150 422 2328 \r\nQ 422 3509 836 4129 \r\nQ 1250 4750 2034 4750 \r\nz\r\n\" id=\"DejaVuSans-30\" transform=\"scale(0.015625)\"/>\r\n       </defs>\r\n       <use xlink:href=\"#DejaVuSans-35\"/>\r\n       <use x=\"63.623047\" xlink:href=\"#DejaVuSans-30\"/>\r\n      </g>\r\n     </g>\r\n    </g>\r\n    <g id=\"xtick_2\">\r\n     <g id=\"line2d_2\">\r\n      <g>\r\n       <use style=\"stroke:#000000;stroke-width:0.8;\" x=\"137.876446\" xlink:href=\"#m448ebaccdc\" y=\"224.64\"/>\r\n      </g>\r\n     </g>\r\n     <g id=\"text_2\">\r\n      <!-- 60 -->\r\n      <g transform=\"translate(131.513946 239.238438)scale(0.1 -0.1)\">\r\n       <defs>\r\n        <path d=\"M 2113 2584 \r\nQ 1688 2584 1439 2293 \r\nQ 1191 2003 1191 1497 \r\nQ 1191 994 1439 701 \r\nQ 1688 409 2113 409 \r\nQ 2538 409 2786 701 \r\nQ 3034 994 3034 1497 \r\nQ 3034 2003 2786 2293 \r\nQ 2538 2584 2113 2584 \r\nz\r\nM 3366 4563 \r\nL 3366 3988 \r\nQ 3128 4100 2886 4159 \r\nQ 2644 4219 2406 4219 \r\nQ 1781 4219 1451 3797 \r\nQ 1122 3375 1075 2522 \r\nQ 1259 2794 1537 2939 \r\nQ 1816 3084 2150 3084 \r\nQ 2853 3084 3261 2657 \r\nQ 3669 2231 3669 1497 \r\nQ 3669 778 3244 343 \r\nQ 2819 -91 2113 -91 \r\nQ 1303 -91 875 529 \r\nQ 447 1150 447 2328 \r\nQ 447 3434 972 4092 \r\nQ 1497 4750 2381 4750 \r\nQ 2619 4750 2861 4703 \r\nQ 3103 4656 3366 4563 \r\nz\r\n\" id=\"DejaVuSans-36\" transform=\"scale(0.015625)\"/>\r\n       </defs>\r\n       <use xlink:href=\"#DejaVuSans-36\"/>\r\n       <use x=\"63.623047\" xlink:href=\"#DejaVuSans-30\"/>\r\n      </g>\r\n     </g>\r\n    </g>\r\n    <g id=\"xtick_3\">\r\n     <g id=\"line2d_3\">\r\n      <g>\r\n       <use style=\"stroke:#000000;stroke-width:0.8;\" x=\"193.215289\" xlink:href=\"#m448ebaccdc\" y=\"224.64\"/>\r\n      </g>\r\n     </g>\r\n     <g id=\"text_3\">\r\n      <!-- 70 -->\r\n      <g transform=\"translate(186.852789 239.238438)scale(0.1 -0.1)\">\r\n       <defs>\r\n        <path d=\"M 525 4666 \r\nL 3525 4666 \r\nL 3525 4397 \r\nL 1831 0 \r\nL 1172 0 \r\nL 2766 4134 \r\nL 525 4134 \r\nL 525 4666 \r\nz\r\n\" id=\"DejaVuSans-37\" transform=\"scale(0.015625)\"/>\r\n       </defs>\r\n       <use xlink:href=\"#DejaVuSans-37\"/>\r\n       <use x=\"63.623047\" xlink:href=\"#DejaVuSans-30\"/>\r\n      </g>\r\n     </g>\r\n    </g>\r\n    <g id=\"xtick_4\">\r\n     <g id=\"line2d_4\">\r\n      <g>\r\n       <use style=\"stroke:#000000;stroke-width:0.8;\" x=\"248.554132\" xlink:href=\"#m448ebaccdc\" y=\"224.64\"/>\r\n      </g>\r\n     </g>\r\n     <g id=\"text_4\">\r\n      <!-- 80 -->\r\n      <g transform=\"translate(242.191632 239.238438)scale(0.1 -0.1)\">\r\n       <defs>\r\n        <path d=\"M 2034 2216 \r\nQ 1584 2216 1326 1975 \r\nQ 1069 1734 1069 1313 \r\nQ 1069 891 1326 650 \r\nQ 1584 409 2034 409 \r\nQ 2484 409 2743 651 \r\nQ 3003 894 3003 1313 \r\nQ 3003 1734 2745 1975 \r\nQ 2488 2216 2034 2216 \r\nz\r\nM 1403 2484 \r\nQ 997 2584 770 2862 \r\nQ 544 3141 544 3541 \r\nQ 544 4100 942 4425 \r\nQ 1341 4750 2034 4750 \r\nQ 2731 4750 3128 4425 \r\nQ 3525 4100 3525 3541 \r\nQ 3525 3141 3298 2862 \r\nQ 3072 2584 2669 2484 \r\nQ 3125 2378 3379 2068 \r\nQ 3634 1759 3634 1313 \r\nQ 3634 634 3220 271 \r\nQ 2806 -91 2034 -91 \r\nQ 1263 -91 848 271 \r\nQ 434 634 434 1313 \r\nQ 434 1759 690 2068 \r\nQ 947 2378 1403 2484 \r\nz\r\nM 1172 3481 \r\nQ 1172 3119 1398 2916 \r\nQ 1625 2713 2034 2713 \r\nQ 2441 2713 2670 2916 \r\nQ 2900 3119 2900 3481 \r\nQ 2900 3844 2670 4047 \r\nQ 2441 4250 2034 4250 \r\nQ 1625 4250 1398 4047 \r\nQ 1172 3844 1172 3481 \r\nz\r\n\" id=\"DejaVuSans-38\" transform=\"scale(0.015625)\"/>\r\n       </defs>\r\n       <use xlink:href=\"#DejaVuSans-38\"/>\r\n       <use x=\"63.623047\" xlink:href=\"#DejaVuSans-30\"/>\r\n      </g>\r\n     </g>\r\n    </g>\r\n    <g id=\"xtick_5\">\r\n     <g id=\"line2d_5\">\r\n      <g>\r\n       <use style=\"stroke:#000000;stroke-width:0.8;\" x=\"303.892975\" xlink:href=\"#m448ebaccdc\" y=\"224.64\"/>\r\n      </g>\r\n     </g>\r\n     <g id=\"text_5\">\r\n      <!-- 90 -->\r\n      <g transform=\"translate(297.530475 239.238438)scale(0.1 -0.1)\">\r\n       <defs>\r\n        <path d=\"M 703 97 \r\nL 703 672 \r\nQ 941 559 1184 500 \r\nQ 1428 441 1663 441 \r\nQ 2288 441 2617 861 \r\nQ 2947 1281 2994 2138 \r\nQ 2813 1869 2534 1725 \r\nQ 2256 1581 1919 1581 \r\nQ 1219 1581 811 2004 \r\nQ 403 2428 403 3163 \r\nQ 403 3881 828 4315 \r\nQ 1253 4750 1959 4750 \r\nQ 2769 4750 3195 4129 \r\nQ 3622 3509 3622 2328 \r\nQ 3622 1225 3098 567 \r\nQ 2575 -91 1691 -91 \r\nQ 1453 -91 1209 -44 \r\nQ 966 3 703 97 \r\nz\r\nM 1959 2075 \r\nQ 2384 2075 2632 2365 \r\nQ 2881 2656 2881 3163 \r\nQ 2881 3666 2632 3958 \r\nQ 2384 4250 1959 4250 \r\nQ 1534 4250 1286 3958 \r\nQ 1038 3666 1038 3163 \r\nQ 1038 2656 1286 2365 \r\nQ 1534 2075 1959 2075 \r\nz\r\n\" id=\"DejaVuSans-39\" transform=\"scale(0.015625)\"/>\r\n       </defs>\r\n       <use xlink:href=\"#DejaVuSans-39\"/>\r\n       <use x=\"63.623047\" xlink:href=\"#DejaVuSans-30\"/>\r\n      </g>\r\n     </g>\r\n    </g>\r\n    <g id=\"xtick_6\">\r\n     <g id=\"line2d_6\">\r\n      <g>\r\n       <use style=\"stroke:#000000;stroke-width:0.8;\" x=\"359.231818\" xlink:href=\"#m448ebaccdc\" y=\"224.64\"/>\r\n      </g>\r\n     </g>\r\n     <g id=\"text_6\">\r\n      <!-- 100 -->\r\n      <g transform=\"translate(349.688068 239.238438)scale(0.1 -0.1)\">\r\n       <defs>\r\n        <path d=\"M 794 531 \r\nL 1825 531 \r\nL 1825 4091 \r\nL 703 3866 \r\nL 703 4441 \r\nL 1819 4666 \r\nL 2450 4666 \r\nL 2450 531 \r\nL 3481 531 \r\nL 3481 0 \r\nL 794 0 \r\nL 794 531 \r\nz\r\n\" id=\"DejaVuSans-31\" transform=\"scale(0.015625)\"/>\r\n       </defs>\r\n       <use xlink:href=\"#DejaVuSans-31\"/>\r\n       <use x=\"63.623047\" xlink:href=\"#DejaVuSans-30\"/>\r\n       <use x=\"127.246094\" xlink:href=\"#DejaVuSans-30\"/>\r\n      </g>\r\n     </g>\r\n    </g>\r\n    <g id=\"text_7\">\r\n     <!-- inspection_score -->\r\n     <g transform=\"translate(165.377344 252.916562)scale(0.1 -0.1)\">\r\n      <defs>\r\n       <path d=\"M 603 3500 \r\nL 1178 3500 \r\nL 1178 0 \r\nL 603 0 \r\nL 603 3500 \r\nz\r\nM 603 4863 \r\nL 1178 4863 \r\nL 1178 4134 \r\nL 603 4134 \r\nL 603 4863 \r\nz\r\n\" id=\"DejaVuSans-69\" transform=\"scale(0.015625)\"/>\r\n       <path d=\"M 3513 2113 \r\nL 3513 0 \r\nL 2938 0 \r\nL 2938 2094 \r\nQ 2938 2591 2744 2837 \r\nQ 2550 3084 2163 3084 \r\nQ 1697 3084 1428 2787 \r\nQ 1159 2491 1159 1978 \r\nL 1159 0 \r\nL 581 0 \r\nL 581 3500 \r\nL 1159 3500 \r\nL 1159 2956 \r\nQ 1366 3272 1645 3428 \r\nQ 1925 3584 2291 3584 \r\nQ 2894 3584 3203 3211 \r\nQ 3513 2838 3513 2113 \r\nz\r\n\" id=\"DejaVuSans-6e\" transform=\"scale(0.015625)\"/>\r\n       <path d=\"M 2834 3397 \r\nL 2834 2853 \r\nQ 2591 2978 2328 3040 \r\nQ 2066 3103 1784 3103 \r\nQ 1356 3103 1142 2972 \r\nQ 928 2841 928 2578 \r\nQ 928 2378 1081 2264 \r\nQ 1234 2150 1697 2047 \r\nL 1894 2003 \r\nQ 2506 1872 2764 1633 \r\nQ 3022 1394 3022 966 \r\nQ 3022 478 2636 193 \r\nQ 2250 -91 1575 -91 \r\nQ 1294 -91 989 -36 \r\nQ 684 19 347 128 \r\nL 347 722 \r\nQ 666 556 975 473 \r\nQ 1284 391 1588 391 \r\nQ 1994 391 2212 530 \r\nQ 2431 669 2431 922 \r\nQ 2431 1156 2273 1281 \r\nQ 2116 1406 1581 1522 \r\nL 1381 1569 \r\nQ 847 1681 609 1914 \r\nQ 372 2147 372 2553 \r\nQ 372 3047 722 3315 \r\nQ 1072 3584 1716 3584 \r\nQ 2034 3584 2315 3537 \r\nQ 2597 3491 2834 3397 \r\nz\r\n\" id=\"DejaVuSans-73\" transform=\"scale(0.015625)\"/>\r\n       <path d=\"M 1159 525 \r\nL 1159 -1331 \r\nL 581 -1331 \r\nL 581 3500 \r\nL 1159 3500 \r\nL 1159 2969 \r\nQ 1341 3281 1617 3432 \r\nQ 1894 3584 2278 3584 \r\nQ 2916 3584 3314 3078 \r\nQ 3713 2572 3713 1747 \r\nQ 3713 922 3314 415 \r\nQ 2916 -91 2278 -91 \r\nQ 1894 -91 1617 61 \r\nQ 1341 213 1159 525 \r\nz\r\nM 3116 1747 \r\nQ 3116 2381 2855 2742 \r\nQ 2594 3103 2138 3103 \r\nQ 1681 3103 1420 2742 \r\nQ 1159 2381 1159 1747 \r\nQ 1159 1113 1420 752 \r\nQ 1681 391 2138 391 \r\nQ 2594 391 2855 752 \r\nQ 3116 1113 3116 1747 \r\nz\r\n\" id=\"DejaVuSans-70\" transform=\"scale(0.015625)\"/>\r\n       <path d=\"M 3597 1894 \r\nL 3597 1613 \r\nL 953 1613 \r\nQ 991 1019 1311 708 \r\nQ 1631 397 2203 397 \r\nQ 2534 397 2845 478 \r\nQ 3156 559 3463 722 \r\nL 3463 178 \r\nQ 3153 47 2828 -22 \r\nQ 2503 -91 2169 -91 \r\nQ 1331 -91 842 396 \r\nQ 353 884 353 1716 \r\nQ 353 2575 817 3079 \r\nQ 1281 3584 2069 3584 \r\nQ 2775 3584 3186 3129 \r\nQ 3597 2675 3597 1894 \r\nz\r\nM 3022 2063 \r\nQ 3016 2534 2758 2815 \r\nQ 2500 3097 2075 3097 \r\nQ 1594 3097 1305 2825 \r\nQ 1016 2553 972 2059 \r\nL 3022 2063 \r\nz\r\n\" id=\"DejaVuSans-65\" transform=\"scale(0.015625)\"/>\r\n       <path d=\"M 3122 3366 \r\nL 3122 2828 \r\nQ 2878 2963 2633 3030 \r\nQ 2388 3097 2138 3097 \r\nQ 1578 3097 1268 2742 \r\nQ 959 2388 959 1747 \r\nQ 959 1106 1268 751 \r\nQ 1578 397 2138 397 \r\nQ 2388 397 2633 464 \r\nQ 2878 531 3122 666 \r\nL 3122 134 \r\nQ 2881 22 2623 -34 \r\nQ 2366 -91 2075 -91 \r\nQ 1284 -91 818 406 \r\nQ 353 903 353 1747 \r\nQ 353 2603 823 3093 \r\nQ 1294 3584 2113 3584 \r\nQ 2378 3584 2631 3529 \r\nQ 2884 3475 3122 3366 \r\nz\r\n\" id=\"DejaVuSans-63\" transform=\"scale(0.015625)\"/>\r\n       <path d=\"M 1172 4494 \r\nL 1172 3500 \r\nL 2356 3500 \r\nL 2356 3053 \r\nL 1172 3053 \r\nL 1172 1153 \r\nQ 1172 725 1289 603 \r\nQ 1406 481 1766 481 \r\nL 2356 481 \r\nL 2356 0 \r\nL 1766 0 \r\nQ 1100 0 847 248 \r\nQ 594 497 594 1153 \r\nL 594 3053 \r\nL 172 3053 \r\nL 172 3500 \r\nL 594 3500 \r\nL 594 4494 \r\nL 1172 4494 \r\nz\r\n\" id=\"DejaVuSans-74\" transform=\"scale(0.015625)\"/>\r\n       <path d=\"M 1959 3097 \r\nQ 1497 3097 1228 2736 \r\nQ 959 2375 959 1747 \r\nQ 959 1119 1226 758 \r\nQ 1494 397 1959 397 \r\nQ 2419 397 2687 759 \r\nQ 2956 1122 2956 1747 \r\nQ 2956 2369 2687 2733 \r\nQ 2419 3097 1959 3097 \r\nz\r\nM 1959 3584 \r\nQ 2709 3584 3137 3096 \r\nQ 3566 2609 3566 1747 \r\nQ 3566 888 3137 398 \r\nQ 2709 -91 1959 -91 \r\nQ 1206 -91 779 398 \r\nQ 353 888 353 1747 \r\nQ 353 2609 779 3096 \r\nQ 1206 3584 1959 3584 \r\nz\r\n\" id=\"DejaVuSans-6f\" transform=\"scale(0.015625)\"/>\r\n       <path d=\"M 3263 -1063 \r\nL 3263 -1509 \r\nL -63 -1509 \r\nL -63 -1063 \r\nL 3263 -1063 \r\nz\r\n\" id=\"DejaVuSans-5f\" transform=\"scale(0.015625)\"/>\r\n       <path d=\"M 2631 2963 \r\nQ 2534 3019 2420 3045 \r\nQ 2306 3072 2169 3072 \r\nQ 1681 3072 1420 2755 \r\nQ 1159 2438 1159 1844 \r\nL 1159 0 \r\nL 581 0 \r\nL 581 3500 \r\nL 1159 3500 \r\nL 1159 2956 \r\nQ 1341 3275 1631 3429 \r\nQ 1922 3584 2338 3584 \r\nQ 2397 3584 2469 3576 \r\nQ 2541 3569 2628 3553 \r\nL 2631 2963 \r\nz\r\n\" id=\"DejaVuSans-72\" transform=\"scale(0.015625)\"/>\r\n      </defs>\r\n      <use xlink:href=\"#DejaVuSans-69\"/>\r\n      <use x=\"27.783203\" xlink:href=\"#DejaVuSans-6e\"/>\r\n      <use x=\"91.162109\" xlink:href=\"#DejaVuSans-73\"/>\r\n      <use x=\"143.261719\" xlink:href=\"#DejaVuSans-70\"/>\r\n      <use x=\"206.738281\" xlink:href=\"#DejaVuSans-65\"/>\r\n      <use x=\"268.261719\" xlink:href=\"#DejaVuSans-63\"/>\r\n      <use x=\"323.242188\" xlink:href=\"#DejaVuSans-74\"/>\r\n      <use x=\"362.451172\" xlink:href=\"#DejaVuSans-69\"/>\r\n      <use x=\"390.234375\" xlink:href=\"#DejaVuSans-6f\"/>\r\n      <use x=\"451.416016\" xlink:href=\"#DejaVuSans-6e\"/>\r\n      <use x=\"514.794922\" xlink:href=\"#DejaVuSans-5f\"/>\r\n      <use x=\"564.794922\" xlink:href=\"#DejaVuSans-73\"/>\r\n      <use x=\"616.894531\" xlink:href=\"#DejaVuSans-63\"/>\r\n      <use x=\"671.875\" xlink:href=\"#DejaVuSans-6f\"/>\r\n      <use x=\"733.056641\" xlink:href=\"#DejaVuSans-72\"/>\r\n      <use x=\"771.919922\" xlink:href=\"#DejaVuSans-65\"/>\r\n     </g>\r\n    </g>\r\n   </g>\r\n   <g id=\"matplotlib.axis_2\">\r\n    <g id=\"ytick_1\">\r\n     <g id=\"line2d_7\">\r\n      <defs>\r\n       <path d=\"M 0 0 \r\nL -3.5 0 \r\n\" id=\"me3fe4dc4c5\" style=\"stroke:#000000;stroke-width:0.8;\"/>\r\n      </defs>\r\n      <g>\r\n       <use style=\"stroke:#000000;stroke-width:0.8;\" x=\"39.65\" xlink:href=\"#me3fe4dc4c5\" y=\"224.64\"/>\r\n      </g>\r\n     </g>\r\n     <g id=\"text_8\">\r\n      <!-- 0 -->\r\n      <g transform=\"translate(26.2875 228.439219)scale(0.1 -0.1)\">\r\n       <use xlink:href=\"#DejaVuSans-30\"/>\r\n      </g>\r\n     </g>\r\n    </g>\r\n    <g id=\"ytick_2\">\r\n     <g id=\"line2d_8\">\r\n      <g>\r\n       <use style=\"stroke:#000000;stroke-width:0.8;\" x=\"39.65\" xlink:href=\"#me3fe4dc4c5\" y=\"197.988042\"/>\r\n      </g>\r\n     </g>\r\n     <g id=\"text_9\">\r\n      <!-- 500 -->\r\n      <g transform=\"translate(13.5625 201.787261)scale(0.1 -0.1)\">\r\n       <use xlink:href=\"#DejaVuSans-35\"/>\r\n       <use x=\"63.623047\" xlink:href=\"#DejaVuSans-30\"/>\r\n       <use x=\"127.246094\" xlink:href=\"#DejaVuSans-30\"/>\r\n      </g>\r\n     </g>\r\n    </g>\r\n    <g id=\"ytick_3\">\r\n     <g id=\"line2d_9\">\r\n      <g>\r\n       <use style=\"stroke:#000000;stroke-width:0.8;\" x=\"39.65\" xlink:href=\"#me3fe4dc4c5\" y=\"171.336084\"/>\r\n      </g>\r\n     </g>\r\n     <g id=\"text_10\">\r\n      <!-- 1000 -->\r\n      <g transform=\"translate(7.2 175.135303)scale(0.1 -0.1)\">\r\n       <use xlink:href=\"#DejaVuSans-31\"/>\r\n       <use x=\"63.623047\" xlink:href=\"#DejaVuSans-30\"/>\r\n       <use x=\"127.246094\" xlink:href=\"#DejaVuSans-30\"/>\r\n       <use x=\"190.869141\" xlink:href=\"#DejaVuSans-30\"/>\r\n      </g>\r\n     </g>\r\n    </g>\r\n    <g id=\"ytick_4\">\r\n     <g id=\"line2d_10\">\r\n      <g>\r\n       <use style=\"stroke:#000000;stroke-width:0.8;\" x=\"39.65\" xlink:href=\"#me3fe4dc4c5\" y=\"144.684126\"/>\r\n      </g>\r\n     </g>\r\n     <g id=\"text_11\">\r\n      <!-- 1500 -->\r\n      <g transform=\"translate(7.2 148.483345)scale(0.1 -0.1)\">\r\n       <use xlink:href=\"#DejaVuSans-31\"/>\r\n       <use x=\"63.623047\" xlink:href=\"#DejaVuSans-35\"/>\r\n       <use x=\"127.246094\" xlink:href=\"#DejaVuSans-30\"/>\r\n       <use x=\"190.869141\" xlink:href=\"#DejaVuSans-30\"/>\r\n      </g>\r\n     </g>\r\n    </g>\r\n    <g id=\"ytick_5\">\r\n     <g id=\"line2d_11\">\r\n      <g>\r\n       <use style=\"stroke:#000000;stroke-width:0.8;\" x=\"39.65\" xlink:href=\"#me3fe4dc4c5\" y=\"118.032168\"/>\r\n      </g>\r\n     </g>\r\n     <g id=\"text_12\">\r\n      <!-- 2000 -->\r\n      <g transform=\"translate(7.2 121.831386)scale(0.1 -0.1)\">\r\n       <defs>\r\n        <path d=\"M 1228 531 \r\nL 3431 531 \r\nL 3431 0 \r\nL 469 0 \r\nL 469 531 \r\nQ 828 903 1448 1529 \r\nQ 2069 2156 2228 2338 \r\nQ 2531 2678 2651 2914 \r\nQ 2772 3150 2772 3378 \r\nQ 2772 3750 2511 3984 \r\nQ 2250 4219 1831 4219 \r\nQ 1534 4219 1204 4116 \r\nQ 875 4013 500 3803 \r\nL 500 4441 \r\nQ 881 4594 1212 4672 \r\nQ 1544 4750 1819 4750 \r\nQ 2544 4750 2975 4387 \r\nQ 3406 4025 3406 3419 \r\nQ 3406 3131 3298 2873 \r\nQ 3191 2616 2906 2266 \r\nQ 2828 2175 2409 1742 \r\nQ 1991 1309 1228 531 \r\nz\r\n\" id=\"DejaVuSans-32\" transform=\"scale(0.015625)\"/>\r\n       </defs>\r\n       <use xlink:href=\"#DejaVuSans-32\"/>\r\n       <use x=\"63.623047\" xlink:href=\"#DejaVuSans-30\"/>\r\n       <use x=\"127.246094\" xlink:href=\"#DejaVuSans-30\"/>\r\n       <use x=\"190.869141\" xlink:href=\"#DejaVuSans-30\"/>\r\n      </g>\r\n     </g>\r\n    </g>\r\n    <g id=\"ytick_6\">\r\n     <g id=\"line2d_12\">\r\n      <g>\r\n       <use style=\"stroke:#000000;stroke-width:0.8;\" x=\"39.65\" xlink:href=\"#me3fe4dc4c5\" y=\"91.38021\"/>\r\n      </g>\r\n     </g>\r\n     <g id=\"text_13\">\r\n      <!-- 2500 -->\r\n      <g transform=\"translate(7.2 95.179428)scale(0.1 -0.1)\">\r\n       <use xlink:href=\"#DejaVuSans-32\"/>\r\n       <use x=\"63.623047\" xlink:href=\"#DejaVuSans-35\"/>\r\n       <use x=\"127.246094\" xlink:href=\"#DejaVuSans-30\"/>\r\n       <use x=\"190.869141\" xlink:href=\"#DejaVuSans-30\"/>\r\n      </g>\r\n     </g>\r\n    </g>\r\n    <g id=\"ytick_7\">\r\n     <g id=\"line2d_13\">\r\n      <g>\r\n       <use style=\"stroke:#000000;stroke-width:0.8;\" x=\"39.65\" xlink:href=\"#me3fe4dc4c5\" y=\"64.728252\"/>\r\n      </g>\r\n     </g>\r\n     <g id=\"text_14\">\r\n      <!-- 3000 -->\r\n      <g transform=\"translate(7.2 68.52747)scale(0.1 -0.1)\">\r\n       <defs>\r\n        <path d=\"M 2597 2516 \r\nQ 3050 2419 3304 2112 \r\nQ 3559 1806 3559 1356 \r\nQ 3559 666 3084 287 \r\nQ 2609 -91 1734 -91 \r\nQ 1441 -91 1130 -33 \r\nQ 819 25 488 141 \r\nL 488 750 \r\nQ 750 597 1062 519 \r\nQ 1375 441 1716 441 \r\nQ 2309 441 2620 675 \r\nQ 2931 909 2931 1356 \r\nQ 2931 1769 2642 2001 \r\nQ 2353 2234 1838 2234 \r\nL 1294 2234 \r\nL 1294 2753 \r\nL 1863 2753 \r\nQ 2328 2753 2575 2939 \r\nQ 2822 3125 2822 3475 \r\nQ 2822 3834 2567 4026 \r\nQ 2313 4219 1838 4219 \r\nQ 1578 4219 1281 4162 \r\nQ 984 4106 628 3988 \r\nL 628 4550 \r\nQ 988 4650 1302 4700 \r\nQ 1616 4750 1894 4750 \r\nQ 2613 4750 3031 4423 \r\nQ 3450 4097 3450 3541 \r\nQ 3450 3153 3228 2886 \r\nQ 3006 2619 2597 2516 \r\nz\r\n\" id=\"DejaVuSans-33\" transform=\"scale(0.015625)\"/>\r\n       </defs>\r\n       <use xlink:href=\"#DejaVuSans-33\"/>\r\n       <use x=\"63.623047\" xlink:href=\"#DejaVuSans-30\"/>\r\n       <use x=\"127.246094\" xlink:href=\"#DejaVuSans-30\"/>\r\n       <use x=\"190.869141\" xlink:href=\"#DejaVuSans-30\"/>\r\n      </g>\r\n     </g>\r\n    </g>\r\n    <g id=\"ytick_8\">\r\n     <g id=\"line2d_14\">\r\n      <g>\r\n       <use style=\"stroke:#000000;stroke-width:0.8;\" x=\"39.65\" xlink:href=\"#me3fe4dc4c5\" y=\"38.076293\"/>\r\n      </g>\r\n     </g>\r\n     <g id=\"text_15\">\r\n      <!-- 3500 -->\r\n      <g transform=\"translate(7.2 41.875512)scale(0.1 -0.1)\">\r\n       <use xlink:href=\"#DejaVuSans-33\"/>\r\n       <use x=\"63.623047\" xlink:href=\"#DejaVuSans-35\"/>\r\n       <use x=\"127.246094\" xlink:href=\"#DejaVuSans-30\"/>\r\n       <use x=\"190.869141\" xlink:href=\"#DejaVuSans-30\"/>\r\n      </g>\r\n     </g>\r\n    </g>\r\n    <g id=\"ytick_9\">\r\n     <g id=\"line2d_15\">\r\n      <g>\r\n       <use style=\"stroke:#000000;stroke-width:0.8;\" x=\"39.65\" xlink:href=\"#me3fe4dc4c5\" y=\"11.424335\"/>\r\n      </g>\r\n     </g>\r\n     <g id=\"text_16\">\r\n      <!-- 4000 -->\r\n      <g transform=\"translate(7.2 15.223554)scale(0.1 -0.1)\">\r\n       <defs>\r\n        <path d=\"M 2419 4116 \r\nL 825 1625 \r\nL 2419 1625 \r\nL 2419 4116 \r\nz\r\nM 2253 4666 \r\nL 3047 4666 \r\nL 3047 1625 \r\nL 3713 1625 \r\nL 3713 1100 \r\nL 3047 1100 \r\nL 3047 0 \r\nL 2419 0 \r\nL 2419 1100 \r\nL 313 1100 \r\nL 313 1709 \r\nL 2253 4666 \r\nz\r\n\" id=\"DejaVuSans-34\" transform=\"scale(0.015625)\"/>\r\n       </defs>\r\n       <use xlink:href=\"#DejaVuSans-34\"/>\r\n       <use x=\"63.623047\" xlink:href=\"#DejaVuSans-30\"/>\r\n       <use x=\"127.246094\" xlink:href=\"#DejaVuSans-30\"/>\r\n       <use x=\"190.869141\" xlink:href=\"#DejaVuSans-30\"/>\r\n      </g>\r\n     </g>\r\n    </g>\r\n   </g>\r\n   <g id=\"patch_103\">\r\n    <path d=\"M 39.65 224.64 \r\nL 39.65 7.2 \r\n\" style=\"fill:none;stroke:#000000;stroke-linecap:square;stroke-linejoin:miter;stroke-width:0.8;\"/>\r\n   </g>\r\n   <g id=\"patch_104\">\r\n    <path d=\"M 374.45 224.64 \r\nL 374.45 7.2 \r\n\" style=\"fill:none;stroke:#000000;stroke-linecap:square;stroke-linejoin:miter;stroke-width:0.8;\"/>\r\n   </g>\r\n   <g id=\"patch_105\">\r\n    <path d=\"M 39.65 224.64 \r\nL 374.45 224.64 \r\n\" style=\"fill:none;stroke:#000000;stroke-linecap:square;stroke-linejoin:miter;stroke-width:0.8;\"/>\r\n   </g>\r\n   <g id=\"patch_106\">\r\n    <path d=\"M 39.65 7.2 \r\nL 374.45 7.2 \r\n\" style=\"fill:none;stroke:#000000;stroke-linecap:square;stroke-linejoin:miter;stroke-width:0.8;\"/>\r\n   </g>\r\n  </g>\r\n </g>\r\n <defs>\r\n  <clipPath id=\"p5bf4d02f0c\">\r\n   <rect height=\"217.44\" width=\"334.8\" x=\"39.65\" y=\"7.2\"/>\r\n  </clipPath>\r\n </defs>\r\n</svg>\r\n",
      "image/png": "[encoded data removed]"
     },
     "metadata": {
      "needs_background": "light"
     }
    }
   ],
   "source": [
    "for col in num_cols:\n",
    "    plt.hist(data[col], 100)\n",
    "    plt.xlabel(col)\n",
    "    plt.show()"
   ]
  },
  {
   "cell_type": "code",
   "execution_count": 172,
   "metadata": {},
   "outputs": [
    {
     "output_type": "execute_result",
     "data": {
      "text/plain": [
       "   inspection_score\n",
       "0               NaN\n",
       "1              96.0\n",
       "2               NaN\n",
       "3               NaN\n",
       "4               NaN"
      ],
      "text/html": "<div>\n<style scoped>\n    .dataframe tbody tr th:only-of-type {\n        vertical-align: middle;\n    }\n\n    .dataframe tbody tr th {\n        vertical-align: top;\n    }\n\n    .dataframe thead th {\n        text-align: right;\n    }\n</style>\n<table border=\"1\" class=\"dataframe\">\n  <thead>\n    <tr style=\"text-align: right;\">\n      <th></th>\n      <th>inspection_score</th>\n    </tr>\n  </thead>\n  <tbody>\n    <tr>\n      <th>0</th>\n      <td>NaN</td>\n    </tr>\n    <tr>\n      <th>1</th>\n      <td>96.0</td>\n    </tr>\n    <tr>\n      <th>2</th>\n      <td>NaN</td>\n    </tr>\n    <tr>\n      <th>3</th>\n      <td>NaN</td>\n    </tr>\n    <tr>\n      <th>4</th>\n      <td>NaN</td>\n    </tr>\n  </tbody>\n</table>\n</div>"
     },
     "metadata": {},
     "execution_count": 172
    }
   ],
   "source": [
    "num_cols_inspection_score = sort_null_data\n",
    "num_cols_inspection_score.head()"
   ]
  },
  {
   "cell_type": "code",
   "execution_count": 173,
   "metadata": {},
   "outputs": [
    {
     "output_type": "execute_result",
     "data": {
      "text/plain": [
       "array([[ True],\n",
       "       [False],\n",
       "       [ True],\n",
       "       ...,\n",
       "       [False],\n",
       "       [False],\n",
       "       [False]])"
      ]
     },
     "metadata": {},
     "execution_count": 173
    }
   ],
   "source": [
    "\n",
    "indicator = MissingIndicator()\n",
    "mask_missing_values_only = indicator.fit_transform(num_cols_inspection_score)\n",
    "mask_missing_values_only"
   ]
  },
  {
   "cell_type": "code",
   "execution_count": 174,
   "metadata": {},
   "outputs": [],
   "source": [
    "strategies=['mean', 'median', 'most_frequent']"
   ]
  },
  {
   "cell_type": "code",
   "execution_count": 175,
   "metadata": {},
   "outputs": [],
   "source": [
    "def test_num_impute(strategy_param):\n",
    "    imp_num = SimpleImputer(strategy=strategy_param)\n",
    "    data_num_imp = imp_num.fit_transform(num_cols_inspection_score)\n",
    "    return data_num_imp[mask_missing_values_only]"
   ]
  },
  {
   "cell_type": "code",
   "execution_count": 176,
   "metadata": {},
   "outputs": [
    {
     "output_type": "execute_result",
     "data": {
      "text/plain": [
       "('mean',\n",
       " array([86.22679186, 86.22679186, 86.22679186, ..., 86.22679186,\n",
       "        86.22679186, 86.22679186]))"
      ]
     },
     "metadata": {},
     "execution_count": 176
    }
   ],
   "source": [
    "strategies[0], test_num_impute(strategies[0])"
   ]
  },
  {
   "cell_type": "code",
   "execution_count": 177,
   "metadata": {},
   "outputs": [
    {
     "output_type": "execute_result",
     "data": {
      "text/plain": [
       "('median', array([87., 87., 87., ..., 87., 87., 87.]))"
      ]
     },
     "metadata": {},
     "execution_count": 177
    }
   ],
   "source": [
    "strategies[1], test_num_impute(strategies[1])"
   ]
  },
  {
   "cell_type": "code",
   "execution_count": 178,
   "metadata": {},
   "outputs": [
    {
     "output_type": "execute_result",
     "data": {
      "text/plain": [
       "('most_frequent', array([90., 90., 90., ..., 90., 90., 90.]))"
      ]
     },
     "metadata": {},
     "execution_count": 178
    }
   ],
   "source": [
    "strategies[2], test_num_impute(strategies[2])"
   ]
  },
  {
   "source": [
    "## Возьмём моду для значений пропусков"
   ],
   "cell_type": "markdown",
   "metadata": {}
  },
  {
   "cell_type": "code",
   "execution_count": 179,
   "metadata": {},
   "outputs": [
    {
     "output_type": "execute_result",
     "data": {
      "text/plain": [
       "array([[90.],\n",
       "       [96.],\n",
       "       [90.],\n",
       "       ...,\n",
       "       [92.],\n",
       "       [76.],\n",
       "       [80.]])"
      ]
     },
     "metadata": {},
     "execution_count": 179
    }
   ],
   "source": [
    "imp_num = SimpleImputer(strategy=strategies[2])\n",
    "data_int_full = imp_num.fit_transform(num_cols_inspection_score)\n",
    "data_int_full"
   ]
  },
  {
   "cell_type": "code",
   "execution_count": 180,
   "metadata": {},
   "outputs": [
    {
     "output_type": "execute_result",
     "data": {
      "text/plain": [
       "0        90.0\n",
       "1        96.0\n",
       "2        90.0\n",
       "3        90.0\n",
       "4        90.0\n",
       "         ... \n",
       "53968    80.0\n",
       "53969    90.0\n",
       "53970    92.0\n",
       "53971    76.0\n",
       "53972    80.0\n",
       "Name: inspection_score, Length: 53973, dtype: float64"
      ]
     },
     "metadata": {},
     "execution_count": 180
    }
   ],
   "source": [
    "num_cols_inspection_score_new = num_cols_inspection_score\n",
    "num_cols_inspection_score_new = data_int_full\n",
    "nmp = num_cols_inspection_score.to_numpy\n",
    "data.iloc[:,12] = num_cols_inspection_score_new\n",
    "##data.replace({'inspection_score' : { nmp : num_cols_inspection_score_new}})\n",
    "data['inspection_score']\n"
   ]
  },
  {
   "cell_type": "code",
   "execution_count": 181,
   "metadata": {},
   "outputs": [
    {
     "output_type": "stream",
     "name": "stdout",
     "text": [
      "business_id                      0\nbusiness_name                    0\nbusiness_address                 0\nbusiness_city                    0\nbusiness_state                   0\nbusiness_postal_code          1018\nbusiness_latitude            19556\nbusiness_longitude           19556\nbusiness_location            19556\nbusiness_phone_number        36938\ninspection_id                    0\ninspection_date                  0\ninspection_score                 0\ninspection_type                  0\nviolation_id                 12870\nviolation_description        12870\nrisk_category                12870\nNeighborhoods (old)          19594\nPolice Districts             19594\nSupervisor Districts         19594\nFire Prevention Districts    19646\nZip Codes                    19576\nAnalysis Neighborhoods       19594\ndtype: int64\n"
     ]
    }
   ],
   "source": [
    "isnull = data.isnull().sum()\n",
    "print (isnull)"
   ]
  },
  {
   "source": [
    "## Получается мы заполнили столбец новыми данными"
   ],
   "cell_type": "markdown",
   "metadata": {}
  },
  {
   "source": [
    "# Обработка категориальных признаков"
   ],
   "cell_type": "markdown",
   "metadata": {}
  },
  {
   "cell_type": "code",
   "execution_count": 182,
   "metadata": {},
   "outputs": [],
   "source": [
    "num_cols=[]\n",
    "for col in data.columns:\n",
    "    if col=='violation_description':\n",
    "        num_cols.append(col)"
   ]
  },
  {
   "cell_type": "code",
   "execution_count": 183,
   "metadata": {},
   "outputs": [
    {
     "output_type": "execute_result",
     "data": {
      "text/plain": [
       "                               violation_description\n",
       "0                                                NaN\n",
       "1  Inadequately cleaned or sanitized food contact...\n",
       "2                                                NaN\n",
       "3                                                NaN\n",
       "4                       High risk vermin infestation"
      ],
      "text/html": "<div>\n<style scoped>\n    .dataframe tbody tr th:only-of-type {\n        vertical-align: middle;\n    }\n\n    .dataframe tbody tr th {\n        vertical-align: top;\n    }\n\n    .dataframe thead th {\n        text-align: right;\n    }\n</style>\n<table border=\"1\" class=\"dataframe\">\n  <thead>\n    <tr style=\"text-align: right;\">\n      <th></th>\n      <th>violation_description</th>\n    </tr>\n  </thead>\n  <tbody>\n    <tr>\n      <th>0</th>\n      <td>NaN</td>\n    </tr>\n    <tr>\n      <th>1</th>\n      <td>Inadequately cleaned or sanitized food contact...</td>\n    </tr>\n    <tr>\n      <th>2</th>\n      <td>NaN</td>\n    </tr>\n    <tr>\n      <th>3</th>\n      <td>NaN</td>\n    </tr>\n    <tr>\n      <th>4</th>\n      <td>High risk vermin infestation</td>\n    </tr>\n  </tbody>\n</table>\n</div>"
     },
     "metadata": {},
     "execution_count": 183
    }
   ],
   "source": [
    "sort_null_data_obj = data[num_cols]\n",
    "data_Desc = sort_null_data_obj[['violation_description']]\n",
    "data_Desc.head()"
   ]
  },
  {
   "cell_type": "code",
   "execution_count": 184,
   "metadata": {},
   "outputs": [
    {
     "output_type": "execute_result",
     "data": {
      "text/plain": [
       "array([['NA'],\n",
       "       ['Inadequately cleaned or sanitized food contact surfaces'],\n",
       "       ['NA'],\n",
       "       ...,\n",
       "       ['Foods not protected from contamination'],\n",
       "       ['Inadequate food safety knowledge or lack of certified food safety manager'],\n",
       "       ['Food safety certificate or food handler card not available']],\n",
       "      dtype=object)"
      ]
     },
     "metadata": {},
     "execution_count": 184
    }
   ],
   "source": [
    "implicator = SimpleImputer(missing_values=np.nan, strategy='constant', fill_value='NA')\n",
    "Desc_values = implicator.fit_transform(data_Desc)\n",
    "Desc_values"
   ]
  },
  {
   "cell_type": "code",
   "execution_count": 185,
   "metadata": {},
   "outputs": [
    {
     "output_type": "execute_result",
     "data": {
      "text/plain": [
       "array([nan, 'Inadequately cleaned or sanitized food contact surfaces',\n",
       "       'High risk vermin infestation',\n",
       "       'Moderate risk food holding temperature',\n",
       "       'Improper storage use or identification of toxic substances',\n",
       "       'Improper or defective plumbing', 'No hot water or running water',\n",
       "       'Inadequate and inaccessible handwashing facilities',\n",
       "       'Low risk vermin infestation',\n",
       "       'Insufficient hot water or running water',\n",
       "       'Foods not protected from contamination', 'Improper food storage',\n",
       "       'Unapproved or unmaintained equipment or utensils',\n",
       "       'Wiping cloths not clean or properly stored or inadequate sanitizer',\n",
       "       'Food safety certificate or food handler card not available',\n",
       "       'Improper thawing methods', 'Improper cooling methods',\n",
       "       'Unclean or degraded floors walls or ceilings',\n",
       "       'Inadequate food safety knowledge or lack of certified food safety manager',\n",
       "       'Other low risk violation',\n",
       "       'Inadequate procedures or records for time as a public health control',\n",
       "       'Unclean nonfood contact surfaces',\n",
       "       'High risk food holding temperature',\n",
       "       'Unclean or unsanitary food contact surfaces',\n",
       "       'Noncompliance with HAACP plan or variance',\n",
       "       'Permit license or inspection report not posted',\n",
       "       'Inadequate dressing rooms or improper storage of personal items',\n",
       "       'Unapproved  living quarters in food facility',\n",
       "       'Inadequate or unsanitary refuse containers or area or no garbage service',\n",
       "       'Inadequate HACCP plan record keeping',\n",
       "       'Moderate risk vermin infestation',\n",
       "       'Inadequate warewashing facilities or equipment',\n",
       "       'Mobile food facility not operating with an approved commissary',\n",
       "       'Inadequate ventilation or lighting',\n",
       "       'No person in charge of food facility',\n",
       "       'Unauthorized or unsafe use of time as a public health control measure',\n",
       "       'Improper storage of equipment utensils or linens',\n",
       "       'Unclean unmaintained or improperly constructed toilet facilities',\n",
       "       'Improper reheating of food', 'Sewage or wastewater contamination',\n",
       "       'Unclean hands or improper use of gloves',\n",
       "       'Unpermitted food facility',\n",
       "       'No thermometers or uncalibrated thermometers',\n",
       "       'Inadequate sewage or wastewater disposal',\n",
       "       'Contaminated or adulterated food',\n",
       "       'Mobile food facility with unapproved operating conditions',\n",
       "       'Employee eating or smoking',\n",
       "       'Improper food labeling or menu misrepresentation',\n",
       "       'Food in poor condition', 'Worker safety hazards',\n",
       "       'Noncompliance with shell fish tags or display',\n",
       "       'Other moderate risk violation',\n",
       "       'Unsanitary employee garments hair or nails',\n",
       "       'Unapproved food source',\n",
       "       'Improperly washed fruits and vegetables',\n",
       "       'No plan review or Building Permit',\n",
       "       'No restroom facility within 200 feet of mobile food facility',\n",
       "       'Improperly displayed mobile food permit or signage',\n",
       "       'Consumer advisory not provided for raw or undercooked foods',\n",
       "       'Noncompliance with Gulf Coast oyster regulation',\n",
       "       'Other high risk violation',\n",
       "       'Reservice of previously served foods',\n",
       "       'Improper cooking time or temperatures', 'Non service animal',\n",
       "       'Mobile food facility stored in unapproved location',\n",
       "       'Discharge from employee nose mouth or eye'], dtype=object)"
      ]
     },
     "metadata": {},
     "execution_count": 185
    }
   ],
   "source": [
    "data_Desc['violation_description'].unique()"
   ]
  },
  {
   "cell_type": "code",
   "execution_count": 186,
   "metadata": {},
   "outputs": [],
   "source": [
    "data_frame = pd.DataFrame({'violation_description': Desc_values.T[0]})"
   ]
  },
  {
   "cell_type": "code",
   "execution_count": 187,
   "metadata": {},
   "outputs": [],
   "source": [
    "from sklearn.preprocessing import LabelEncoder, OneHotEncoder"
   ]
  },
  {
   "cell_type": "code",
   "execution_count": 188,
   "metadata": {},
   "outputs": [
    {
     "output_type": "execute_result",
     "data": {
      "text/plain": [
       "                               violation_description\n",
       "0                                                 NA\n",
       "1  Inadequately cleaned or sanitized food contact...\n",
       "2                                                 NA\n",
       "3                                                 NA\n",
       "4                       High risk vermin infestation\n",
       "5                                                 NA\n",
       "6                                                 NA\n",
       "7  Inadequately cleaned or sanitized food contact...\n",
       "8             Moderate risk food holding temperature\n",
       "9                                                 NA"
      ],
      "text/html": "<div>\n<style scoped>\n    .dataframe tbody tr th:only-of-type {\n        vertical-align: middle;\n    }\n\n    .dataframe tbody tr th {\n        vertical-align: top;\n    }\n\n    .dataframe thead th {\n        text-align: right;\n    }\n</style>\n<table border=\"1\" class=\"dataframe\">\n  <thead>\n    <tr style=\"text-align: right;\">\n      <th></th>\n      <th>violation_description</th>\n    </tr>\n  </thead>\n  <tbody>\n    <tr>\n      <th>0</th>\n      <td>NA</td>\n    </tr>\n    <tr>\n      <th>1</th>\n      <td>Inadequately cleaned or sanitized food contact...</td>\n    </tr>\n    <tr>\n      <th>2</th>\n      <td>NA</td>\n    </tr>\n    <tr>\n      <th>3</th>\n      <td>NA</td>\n    </tr>\n    <tr>\n      <th>4</th>\n      <td>High risk vermin infestation</td>\n    </tr>\n    <tr>\n      <th>5</th>\n      <td>NA</td>\n    </tr>\n    <tr>\n      <th>6</th>\n      <td>NA</td>\n    </tr>\n    <tr>\n      <th>7</th>\n      <td>Inadequately cleaned or sanitized food contact...</td>\n    </tr>\n    <tr>\n      <th>8</th>\n      <td>Moderate risk food holding temperature</td>\n    </tr>\n    <tr>\n      <th>9</th>\n      <td>NA</td>\n    </tr>\n  </tbody>\n</table>\n</div>"
     },
     "metadata": {},
     "execution_count": 188
    }
   ],
   "source": [
    "data_frame.head(10)"
   ]
  },
  {
   "cell_type": "code",
   "execution_count": 189,
   "metadata": {},
   "outputs": [
    {
     "output_type": "execute_result",
     "data": {
      "text/plain": [
       "array([['Unclean or degraded floors walls or ceilings'],\n",
       "       ['Inadequately cleaned or sanitized food contact surfaces'],\n",
       "       ['Unclean or degraded floors walls or ceilings'],\n",
       "       ...,\n",
       "       ['Foods not protected from contamination'],\n",
       "       ['Inadequate food safety knowledge or lack of certified food safety manager'],\n",
       "       ['Food safety certificate or food handler card not available']],\n",
       "      dtype=object)"
      ]
     },
     "metadata": {},
     "execution_count": 189
    }
   ],
   "source": [
    "imp2 = SimpleImputer(missing_values=np.nan, strategy='most_frequent')\n",
    "data_imp2 = imp2.fit_transform(data_Desc)\n",
    "data_imp2"
   ]
  },
  {
   "cell_type": "code",
   "execution_count": 190,
   "metadata": {},
   "outputs": [
    {
     "output_type": "execute_result",
     "data": {
      "text/plain": [
       "0             Unclean or degraded floors walls or ceilings\n",
       "1        Inadequately cleaned or sanitized food contact...\n",
       "2             Unclean or degraded floors walls or ceilings\n",
       "3             Unclean or degraded floors walls or ceilings\n",
       "4                             High risk vermin infestation\n",
       "                               ...                        \n",
       "53968    Inadequately cleaned or sanitized food contact...\n",
       "53969         Unclean or degraded floors walls or ceilings\n",
       "53970               Foods not protected from contamination\n",
       "53971    Inadequate food safety knowledge or lack of ce...\n",
       "53972    Food safety certificate or food handler card n...\n",
       "Name: violation_description, Length: 53973, dtype: object"
      ]
     },
     "metadata": {},
     "execution_count": 190
    }
   ],
   "source": [
    "data.iloc[:,15] = data_imp2\n",
    "data['violation_description']\n"
   ]
  },
  {
   "cell_type": "code",
   "execution_count": 191,
   "metadata": {},
   "outputs": [],
   "source": [
    "one = OneHotEncoder()\n",
    "data_label_hot = one.fit_transform(data_frame)"
   ]
  },
  {
   "cell_type": "code",
   "execution_count": 192,
   "metadata": {},
   "outputs": [
    {
     "output_type": "execute_result",
     "data": {
      "text/plain": [
       "<53973x66 sparse matrix of type '<class 'numpy.float64'>'\n",
       "\twith 53973 stored elements in Compressed Sparse Row format>"
      ]
     },
     "metadata": {},
     "execution_count": 192
    }
   ],
   "source": [
    "data_label_hot"
   ]
  },
  {
   "cell_type": "code",
   "execution_count": 193,
   "metadata": {},
   "outputs": [
    {
     "output_type": "execute_result",
     "data": {
      "text/plain": [
       "matrix([[0., 0., 0., 0., 0., 0., 0., 0., 0., 0., 0., 0., 0., 0., 0., 0.,\n",
       "         0., 0., 0., 0., 0., 0., 0., 0., 0., 0., 0., 0., 0., 0., 0., 0.,\n",
       "         0., 0., 0., 0., 0., 1., 0., 0., 0., 0., 0., 0., 0., 0., 0., 0.,\n",
       "         0., 0., 0., 0., 0., 0., 0., 0., 0., 0., 0., 0., 0., 0., 0., 0.,\n",
       "         0., 0.],\n",
       "        [0., 0., 0., 0., 0., 0., 0., 0., 0., 0., 0., 0., 0., 0., 0., 0.,\n",
       "         0., 0., 0., 0., 0., 0., 0., 0., 0., 0., 0., 0., 0., 1., 0., 0.,\n",
       "         0., 0., 0., 0., 0., 0., 0., 0., 0., 0., 0., 0., 0., 0., 0., 0.,\n",
       "         0., 0., 0., 0., 0., 0., 0., 0., 0., 0., 0., 0., 0., 0., 0., 0.,\n",
       "         0., 0.],\n",
       "        [0., 0., 0., 0., 0., 0., 0., 0., 0., 0., 0., 0., 0., 0., 0., 0.,\n",
       "         0., 0., 0., 0., 0., 0., 0., 0., 0., 0., 0., 0., 0., 0., 0., 0.,\n",
       "         0., 0., 0., 0., 0., 1., 0., 0., 0., 0., 0., 0., 0., 0., 0., 0.,\n",
       "         0., 0., 0., 0., 0., 0., 0., 0., 0., 0., 0., 0., 0., 0., 0., 0.,\n",
       "         0., 0.],\n",
       "        [0., 0., 0., 0., 0., 0., 0., 0., 0., 0., 0., 0., 0., 0., 0., 0.,\n",
       "         0., 0., 0., 0., 0., 0., 0., 0., 0., 0., 0., 0., 0., 0., 0., 0.,\n",
       "         0., 0., 0., 0., 0., 1., 0., 0., 0., 0., 0., 0., 0., 0., 0., 0.,\n",
       "         0., 0., 0., 0., 0., 0., 0., 0., 0., 0., 0., 0., 0., 0., 0., 0.,\n",
       "         0., 0.],\n",
       "        [0., 0., 0., 0., 0., 0., 0., 0., 1., 0., 0., 0., 0., 0., 0., 0.,\n",
       "         0., 0., 0., 0., 0., 0., 0., 0., 0., 0., 0., 0., 0., 0., 0., 0.,\n",
       "         0., 0., 0., 0., 0., 0., 0., 0., 0., 0., 0., 0., 0., 0., 0., 0.,\n",
       "         0., 0., 0., 0., 0., 0., 0., 0., 0., 0., 0., 0., 0., 0., 0., 0.,\n",
       "         0., 0.]])"
      ]
     },
     "metadata": {},
     "execution_count": 193
    }
   ],
   "source": [
    "data_label_hot.todense()[0:5]"
   ]
  },
  {
   "source": [
    "### Для дальнейшего построения моделей я буду использовать карелирующие признаки, потому что на их основе можно построить более качественные модели машинного обучения. Также приоритет получат те признаки, в которых отсутствует пропуск данных или он минимален."
   ],
   "cell_type": "markdown",
   "metadata": {}
  },
  {
   "cell_type": "code",
   "execution_count": null,
   "metadata": {},
   "outputs": [],
   "source": []
  }
 ]
}